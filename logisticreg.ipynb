import pandas as pd
import tensorflow as tf
import numpy as np
dataset = pd.read_csv('#csv file name')
X=dataset.iloc[:, 2:32].values
y=dataset.iloc[:,1].values
dataset = dataset.dropna(axis=1)
from sklearn import preprocessing
from sklearn.preprocessing import LabelEncoder
encoder = LabelEncoder()
y=encoder.fit_transform(dataset['#column name'])
from sklearn.model_selection import train_test_split
X_train, X_test, y_train, y_test = train_test_split(X, y, test_size = 0.5, random_state = 0)
from sklearn.preprocessing import StandardScaler
sc = StandardScaler()
X_train = sc.fit_transform(X_train)
X_test = sc.transform(X_test)
def models(X_train,y_train):
  from sklearn.linear_model import LogisticRegression
  log = LogisticRegression(random_state=0)
  log.fit(X_train,y_train)
  print(log.score(X_train,y_train))
  return log
model=models(X_train,y_train)
from sklearn.metrics import confusion_matrix, accuracy_score
X_test_prediction = model.predict(X_test)
test_data_accuracy = accuracy_score(y_test, X_test_prediction)
print(test_data_accuracy)
